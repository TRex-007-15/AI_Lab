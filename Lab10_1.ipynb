{
  "nbformat": 4,
  "nbformat_minor": 0,
  "metadata": {
    "colab": {
      "provenance": []
    },
    "kernelspec": {
      "name": "python3",
      "display_name": "Python 3"
    },
    "language_info": {
      "name": "python"
    }
  },
  "cells": [
    {
      "cell_type": "code",
      "execution_count": null,
      "metadata": {
        "colab": {
          "base_uri": "https://localhost:8080/"
        },
        "id": "CsH22VBbtxU9",
        "outputId": "f5a01fd2-c5b1-4b9e-e74a-d475c6d77d7f"
      },
      "outputs": [
        {
          "output_type": "stream",
          "name": "stdout",
          "text": [
            "Generated sequence of states:\n",
            "['Rainy', 'Rainy', 'Rainy', 'Rainy', 'Rainy', 'Rainy', 'Rainy', 'Rainy', 'Rainy', 'Rainy']\n"
          ]
        }
      ],
      "source": [
        "import random\n",
        "import numpy as np\n",
        "\n",
        "# Transition matrix\n",
        "transition_matrix = np.array([\n",
        "    [0.8, 0.1, 0.1],  # Sunny -> [Sunny, Cloudy, Rainy]\n",
        "    [0.4, 0.4, 0.2],  # Cloudy -> [Sunny, Cloudy, Rainy]\n",
        "    [0, 0, 1]   # Rainy -> [Sunny, Cloudy, Rainy]\n",
        "])\n",
        "\n",
        "# Create a dictionary to map state names to row indices\n",
        "state_to_index = {\"Sunny\": 0, \"Cloudy\": 1, \"Rainy\": 2}\n",
        "\n",
        "# Starting probabilities\n",
        "start_probabilities = [0.6, 0.3, 0.1]  # Sunny, Cloudy, Rainy\n",
        "\n",
        "# Choose the initial state based on starting probabilities\n",
        "initial_state = random.choices([\"Sunny\", \"Cloudy\", \"Rainy\"], start_probabilities)[0]\n",
        "\n",
        "# Generate a sequence of 10 states\n",
        "sequence = [initial_state]\n",
        "current_state = initial_state\n",
        "for _ in range(9):\n",
        "    next_state = random.choices([\"Sunny\", \"Cloudy\", \"Rainy\"], transition_matrix[state_to_index[current_state]])[0]\n",
        "    sequence.append(next_state)\n",
        "    current_state = next_state\n",
        "\n",
        "# Print the sequence of states\n",
        "print(\"Generated sequence of states:\")\n",
        "print(sequence)\n"
      ]
    },
    {
      "cell_type": "code",
      "source": [
        "import numpy as np\n",
        "\n",
        "# Transition probabilities\n",
        "transition_matrix = np.array([\n",
        "    [0.8, 0.1, 0.1],  # Sunny -> [Sunny, Cloudy, Rainy]\n",
        "    [0.4, 0.4, 0.2],  # Cloudy -> [Sunny, Cloudy, Rainy]\n",
        "    [0, 0, 1]   # Rainy -> [Sunny, Cloudy, Rainy]\n",
        "])\n",
        "\n",
        "print(transition_matrix)\n"
      ],
      "metadata": {
        "colab": {
          "base_uri": "https://localhost:8080/"
        },
        "id": "3LC7z_Nlug2z",
        "outputId": "866b4e5e-0b07-43dd-ff9d-882182c74fae"
      },
      "execution_count": null,
      "outputs": [
        {
          "output_type": "stream",
          "name": "stdout",
          "text": [
            "[[0.8 0.1 0.1]\n",
            " [0.4 0.4 0.2]\n",
            " [0.  0.  1. ]]\n"
          ]
        }
      ]
    }
  ]
}