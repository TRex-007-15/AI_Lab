{
  "nbformat": 4,
  "nbformat_minor": 0,
  "metadata": {
    "colab": {
      "provenance": []
    },
    "kernelspec": {
      "name": "python3",
      "display_name": "Python 3"
    },
    "language_info": {
      "name": "python"
    }
  },
  "cells": [
    {
      "cell_type": "markdown",
      "source": [
        "The problem solved using DFS traversal."
      ],
      "metadata": {
        "id": "tbq4l7ivXqz9"
      }
    },
    {
      "cell_type": "code",
      "execution_count": null,
      "metadata": {
        "colab": {
          "base_uri": "https://localhost:8080/"
        },
        "id": "mMSYtzreQY6X",
        "outputId": "f3bf38dd-cb96-46f9-b21a-48a82935ffba"
      },
      "outputs": [
        {
          "output_type": "stream",
          "name": "stdout",
          "text": [
            "Enter the no. of rooms: 6\n",
            "Enter the room name: A\n",
            "Enter connections for room A (comma-separated): E\n",
            "Enter the room name: B\n",
            "Enter connections for room B (comma-separated): D,F\n",
            "Enter the room name: C\n",
            "Enter connections for room C (comma-separated): D\n",
            "Enter the room name: D\n",
            "Enter connections for room D (comma-separated): B,C,E\n",
            "Enter the room name: E\n",
            "Enter connections for room E (comma-separated): A,D,F\n",
            "Enter the room name: F\n",
            "Enter connections for room F (comma-separated): B,E\n",
            "Enter the starting room: C\n",
            "Enter the destination room: F\n",
            "Shortest path: C -> D -> B -> F\n"
          ]
        }
      ],
      "source": [
        "def dfs(graph, current, dest, visited=None, path=None):\n",
        "    # Initialize visited set and path list if not provided\n",
        "    if visited is None:\n",
        "        visited = set()\n",
        "    if path is None:\n",
        "        path = []\n",
        "\n",
        "    visited.add(current)\n",
        "    path.append(current)\n",
        "\n",
        "    # If destination is reached, return the path\n",
        "    if current == dest:\n",
        "        return path\n",
        "\n",
        "    shortest_path = None\n",
        "\n",
        "    # Explore unvisited neighboring rooms\n",
        "    for nxt_node in graph[current] - visited:\n",
        "        # Only continue exploring if a shorter path is possible\n",
        "        if shortest_path is None or len(path) < len(shortest_path):\n",
        "            new_path = dfs(graph, nxt_node, dest, visited.copy(), path.copy())\n",
        "            # Update shortest_path if a valid path is found\n",
        "            if new_path is not None:\n",
        "                shortest_path = new_path\n",
        "\n",
        "    return shortest_path\n",
        "\n",
        "def main():\n",
        "    num_of_rooms = int(input(\"Enter the no. of rooms: \"))\n",
        "    graph = {}\n",
        "\n",
        "    # Gather room connections\n",
        "    for _ in range(num_of_rooms):\n",
        "        room = input(\"Enter the room name: \")\n",
        "        gates = input(f\"Enter connections for room {room} (comma-separated): \").split(',')\n",
        "        graph[room] = set(gates)\n",
        "\n",
        "    initial_room = input(\"Enter the starting room: \")\n",
        "    dest_room = input(\"Enter the destination room: \")\n",
        "\n",
        "    # Find the shortest path using DFS\n",
        "    shortest_path = dfs(graph, initial_room, dest_room)\n",
        "\n",
        "    # Display the result\n",
        "    if shortest_path:\n",
        "        print(\"Shortest path:\", \" -> \".join(shortest_path))\n",
        "    else:\n",
        "        print(\"No path found\")\n",
        "\n",
        "main()\n"
      ]
    },
    {
      "cell_type": "markdown",
      "source": [
        "The problem solved using BFS traversal.\n"
      ],
      "metadata": {
        "id": "jGnNZpJCX1e-"
      }
    },
    {
      "cell_type": "code",
      "source": [
        "from collections import deque\n",
        "\n",
        "def bfs(graph, start, goal):\n",
        "    node_queue = deque([(start, [start])])  # Queue of nodes to visit along with their path\n",
        "    visited_nodes = set()\n",
        "\n",
        "    while node_queue:\n",
        "        current_node, path = node_queue.popleft()\n",
        "        visited_nodes.add(current_node)\n",
        "        print(\"Visiting:\", current_node)  # Print the nodes being visited\n",
        "\n",
        "        if current_node == goal:\n",
        "            return path  # Return the path when goal is reached\n",
        "\n",
        "        for next_node in graph[current_node] - visited_nodes:\n",
        "            node_queue.append((next_node, path + [next_node]))\n",
        "\n",
        "    return None\n",
        "\n",
        "# Main program\n",
        "def main():\n",
        "    num_rooms = int(input(\"Enter the number of rooms: \"))\n",
        "    room_graph = {}\n",
        "\n",
        "    # Gathering connections information for each room\n",
        "    for _ in range(num_rooms):\n",
        "        room_name = input(\"Enter the room name: \")\n",
        "        connections = input(f\"Enter connections for room {room_name} (comma-separated): \").split(',')\n",
        "        room_graph[room_name] = set(connections)\n",
        "\n",
        "    start_room = input(\"Enter the starting room: \")\n",
        "    goal_room = input(\"Enter the goal room: \")\n",
        "\n",
        "    # Call BFS function\n",
        "    path = bfs(room_graph, start_room, goal_room)\n",
        "    if path:\n",
        "        print(\"Path found:\", ' -> '.join(path))\n",
        "    else:\n",
        "        print(\"No path found.\")\n",
        "\n",
        "main()\n"
      ],
      "metadata": {
        "colab": {
          "base_uri": "https://localhost:8080/"
        },
        "id": "ftOi-Sx3X9jE",
        "outputId": "ed1219a8-60c9-4259-dd32-5b0c61499b17"
      },
      "execution_count": null,
      "outputs": [
        {
          "output_type": "stream",
          "name": "stdout",
          "text": [
            "Enter the number of rooms: 6\n",
            "Enter the room name: A\n",
            "Enter connections for room A (comma-separated): E\n",
            "Enter the room name: B\n",
            "Enter connections for room B (comma-separated): D,F\n",
            "Enter the room name: C\n",
            "Enter connections for room C (comma-separated): D\n",
            "Enter the room name: D\n",
            "Enter connections for room D (comma-separated): B,C,E\n",
            "Enter the room name: E\n",
            "Enter connections for room E (comma-separated): A,D,F\n",
            "Enter the room name: F\n",
            "Enter connections for room F (comma-separated): B,E\n",
            "Enter the starting room: C\n",
            "Enter the goal room: F\n",
            "Visiting: C\n",
            "Visiting: D\n",
            "Visiting: E\n",
            "Visiting: B\n",
            "Visiting: A\n",
            "Visiting: F\n",
            "Path found: C -> D -> E -> F\n"
          ]
        }
      ]
    }
  ]
}